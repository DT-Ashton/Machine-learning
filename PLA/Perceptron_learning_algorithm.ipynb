{
 "cells": [
  {
   "cell_type": "code",
   "execution_count": 1,
   "metadata": {},
   "outputs": [],
   "source": [
    "import numpy as np\n",
    "import matplotlib.pyplot as plt\n",
    "from scipy.spatial.distance import cdist\n",
    "\n",
    "np.random.seed(2)"
   ]
  },
  {
   "cell_type": "code",
   "execution_count": 2,
   "metadata": {},
   "outputs": [],
   "source": [
    "means = [[2, 2], [4, 2]]\n",
    "cov = [[0.3, 0.2], [0.2, 0.3]]\n",
    "N = 10\n",
    "X0 = np.random.multivariate_normal(means[0], cov, N).T\n",
    "X1 = np.random.multivariate_normal(means[1], cov, N).T"
   ]
  },
  {
   "cell_type": "code",
   "execution_count": 3,
   "metadata": {},
   "outputs": [
    {
     "data": {
      "text/plain": [
       "array([[2.22096057, 2.70132234, 3.08493823, 2.02701417, 2.73223639,\n",
       "        1.21171968, 2.22920603, 1.8637762 , 1.74682699, 2.37191737],\n",
       "       [2.19579728, 3.43487375, 2.70849736, 1.47010441, 2.32571583,\n",
       "        2.23682627, 1.72925457, 1.59716548, 2.27230351, 2.37595358]])"
      ]
     },
     "execution_count": 3,
     "metadata": {},
     "output_type": "execute_result"
    }
   ],
   "source": [
    "X0"
   ]
  },
  {
   "cell_type": "code",
   "execution_count": 4,
   "metadata": {},
   "outputs": [
    {
     "data": {
      "text/plain": [
       "array([[4.47403369, 4.09281249, 4.22222334, 4.58438569, 4.74493118,\n",
       "        3.6355797 , 5.19217738, 3.51075436, 3.93784332, 3.8787214 ],\n",
       "       [2.4040742 , 1.65061706, 2.11659863, 2.05326933, 2.67628604,\n",
       "        2.63347726, 3.2425902 , 2.11880111, 1.56029947, 2.12126884]])"
      ]
     },
     "execution_count": 4,
     "metadata": {},
     "output_type": "execute_result"
    }
   ],
   "source": [
    "X1"
   ]
  },
  {
   "cell_type": "code",
   "execution_count": 5,
   "metadata": {},
   "outputs": [
    {
     "data": {
      "text/plain": [
       "array([[2.22096057, 2.70132234, 3.08493823, 2.02701417, 2.73223639,\n",
       "        1.21171968, 2.22920603, 1.8637762 , 1.74682699, 2.37191737,\n",
       "        4.47403369, 4.09281249, 4.22222334, 4.58438569, 4.74493118,\n",
       "        3.6355797 , 5.19217738, 3.51075436, 3.93784332, 3.8787214 ],\n",
       "       [2.19579728, 3.43487375, 2.70849736, 1.47010441, 2.32571583,\n",
       "        2.23682627, 1.72925457, 1.59716548, 2.27230351, 2.37595358,\n",
       "        2.4040742 , 1.65061706, 2.11659863, 2.05326933, 2.67628604,\n",
       "        2.63347726, 3.2425902 , 2.11880111, 1.56029947, 2.12126884]])"
      ]
     },
     "execution_count": 5,
     "metadata": {},
     "output_type": "execute_result"
    }
   ],
   "source": [
    "X = np.concatenate((X0,X1), axis=1)\n",
    "X"
   ]
  },
  {
   "cell_type": "code",
   "execution_count": 6,
   "metadata": {},
   "outputs": [
    {
     "data": {
      "text/plain": [
       "array([[ 1.,  1.,  1.,  1.,  1.,  1.,  1.,  1.,  1.,  1., -1., -1., -1.,\n",
       "        -1., -1., -1., -1., -1., -1., -1.]])"
      ]
     },
     "execution_count": 6,
     "metadata": {},
     "output_type": "execute_result"
    }
   ],
   "source": [
    "y = np.concatenate((np.ones((1, N)), -1 * np.ones((1, N))), axis=1)\n",
    "y"
   ]
  },
  {
   "cell_type": "code",
   "execution_count": 7,
   "metadata": {},
   "outputs": [
    {
     "data": {
      "text/plain": [
       "array([[1.        , 1.        , 1.        , 1.        , 1.        ,\n",
       "        1.        , 1.        , 1.        , 1.        , 1.        ,\n",
       "        1.        , 1.        , 1.        , 1.        , 1.        ,\n",
       "        1.        , 1.        , 1.        , 1.        , 1.        ],\n",
       "       [2.22096057, 2.70132234, 3.08493823, 2.02701417, 2.73223639,\n",
       "        1.21171968, 2.22920603, 1.8637762 , 1.74682699, 2.37191737,\n",
       "        4.47403369, 4.09281249, 4.22222334, 4.58438569, 4.74493118,\n",
       "        3.6355797 , 5.19217738, 3.51075436, 3.93784332, 3.8787214 ],\n",
       "       [2.19579728, 3.43487375, 2.70849736, 1.47010441, 2.32571583,\n",
       "        2.23682627, 1.72925457, 1.59716548, 2.27230351, 2.37595358,\n",
       "        2.4040742 , 1.65061706, 2.11659863, 2.05326933, 2.67628604,\n",
       "        2.63347726, 3.2425902 , 2.11880111, 1.56029947, 2.12126884]])"
      ]
     },
     "execution_count": 7,
     "metadata": {},
     "output_type": "execute_result"
    }
   ],
   "source": [
    "X = np.concatenate((np.ones((1, 2*N)), X), axis = 0)\n",
    "X"
   ]
  },
  {
   "cell_type": "code",
   "execution_count": 8,
   "metadata": {},
   "outputs": [],
   "source": [
    "def h(W,x):\n",
    "    return np.sign(np.dot(W.T, x))"
   ]
  },
  {
   "cell_type": "code",
   "execution_count": 9,
   "metadata": {},
   "outputs": [],
   "source": [
    "def has_converged(X, y, W):\n",
    "    return np.array_equal(h(W, X), y)\n",
    "\n",
    "def perceptron(X, y, w_init):\n",
    "    W = [w_init]\n",
    "    N = X.shape[1]\n",
    "    d = X.shape[0]\n",
    "    miss_points = []\n",
    "    while True:\n",
    "        mix_id = np.random.permutation(N)\n",
    "        for i in range(N):\n",
    "            xi = X[:, mix_id[i]].reshape(d, 1)\n",
    "            yi = y[0, mix_id[i]]\n",
    "            if h(W[-1], xi) != yi:\n",
    "                miss_points.append(mix_id[i])\n",
    "                w_new = W[-1] + yi * xi\n",
    "                W.append(w_new)\n",
    "        if has_converged(X, y, W[-1]):\n",
    "            break\n",
    "    return (W, miss_points)"
   ]
  },
  {
   "cell_type": "code",
   "execution_count": 11,
   "metadata": {},
   "outputs": [
    {
     "name": "stdout",
     "output_type": "stream",
     "text": [
      "Misspoint [14, 4, 2, 10, 8, 16, 0, 1, 18, 3, 14, 9]\n",
      "[array([[1.73118467],\n",
      "       [1.58160763],\n",
      "       [0.01896191]]), array([[ 0.73118467],\n",
      "       [-3.16332356],\n",
      "       [-2.65732414]]), array([[ 1.73118467],\n",
      "       [-0.43108717],\n",
      "       [-0.33160831]]), array([[2.73118467],\n",
      "       [2.65385106],\n",
      "       [2.37688905]]), array([[ 1.73118467],\n",
      "       [-1.82018263],\n",
      "       [-0.02718515]]), array([[ 2.73118467],\n",
      "       [-0.07335564],\n",
      "       [ 2.24511836]]), array([[ 1.73118467],\n",
      "       [-5.26553302],\n",
      "       [-0.99747185]]), array([[ 2.73118467],\n",
      "       [-3.04457245],\n",
      "       [ 1.19832543]]), array([[ 3.73118467],\n",
      "       [-0.3432501 ],\n",
      "       [ 4.63319918]]), array([[ 2.73118467],\n",
      "       [-4.28109342],\n",
      "       [ 3.07289971]]), array([[ 3.73118467],\n",
      "       [-2.25407925],\n",
      "       [ 4.54300412]]), array([[ 2.73118467],\n",
      "       [-6.99901043],\n",
      "       [ 1.86671808]]), array([[ 3.73118467],\n",
      "       [-4.62709307],\n",
      "       [ 4.24267166]])]\n",
      "13\n"
     ]
    }
   ],
   "source": [
    "d = X.shape[0]\n",
    "w_init = np.random.randn(d, 1)\n",
    "(w, m) = perceptron(X,y, w_init)\n",
    "print('Misspoint', m)\n",
    "print(w)\n",
    "print(len(w))"
   ]
  }
 ],
 "metadata": {
  "kernelspec": {
   "display_name": "Python 3",
   "language": "python",
   "name": "python3"
  },
  "language_info": {
   "codemirror_mode": {
    "name": "ipython",
    "version": 3
   },
   "file_extension": ".py",
   "mimetype": "text/x-python",
   "name": "python",
   "nbconvert_exporter": "python",
   "pygments_lexer": "ipython3",
   "version": "3.10.0"
  }
 },
 "nbformat": 4,
 "nbformat_minor": 2
}
