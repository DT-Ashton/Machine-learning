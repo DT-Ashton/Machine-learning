{
 "cells": [
  {
   "cell_type": "code",
   "execution_count": 1,
   "metadata": {},
   "outputs": [],
   "source": [
    "import numpy as np\n",
    "import matplotlib.pyplot as plt\n",
    "from scipy.spatial.distance import cdist\n",
    "\n",
    "np.random.seed(2)"
   ]
  },
  {
   "cell_type": "code",
   "execution_count": 3,
   "metadata": {},
   "outputs": [],
   "source": [
    "means = [[2, 2], [4, 2]]\n",
    "cov = [[0.3, 0.2], [0.2, 0.3]]\n",
    "N = 20\n",
    "X0 = np.random.multivariate_normal(means[0], cov, N).T\n",
    "X1 = np.random.multivariate_normal(means[1], cov, N).T"
   ]
  },
  {
   "cell_type": "code",
   "execution_count": 5,
   "metadata": {},
   "outputs": [
    {
     "data": {
      "text/plain": [
       "array([[2.11200125, 1.3085396 , 2.51153392, 1.04405478, 2.15254162,\n",
       "        1.68244384, 1.58334917, 2.63624444, 1.85831694, 1.93727986,\n",
       "        1.33290958, 2.4697242 , 1.57395371, 0.98379239, 2.49008239,\n",
       "        2.28779706, 2.58326845, 2.2536685 , 2.55700152, 1.05419243],\n",
       "       [2.07746801, 1.86675739, 1.89235835, 1.58870979, 2.30946373,\n",
       "        1.93568992, 2.21244285, 3.10171506, 1.76121109, 0.88918865,\n",
       "        1.50556893, 2.66340908, 2.73013273, 1.18087489, 2.22917145,\n",
       "        2.03725257, 2.31897762, 2.02251099, 2.14158843, 0.39536933]])"
      ]
     },
     "execution_count": 5,
     "metadata": {},
     "output_type": "execute_result"
    }
   ],
   "source": [
    "X0"
   ]
  },
  {
   "cell_type": "code",
   "execution_count": 6,
   "metadata": {},
   "outputs": [
    {
     "data": {
      "text/plain": [
       "array([[4.41402075, 4.06701995, 3.318081  , 3.84622929, 3.84007596,\n",
       "        4.16860578, 4.39809886, 3.86358184, 4.55199165, 3.72274273,\n",
       "        4.76570368, 5.23903244, 2.14303611, 3.19963387, 3.49595399,\n",
       "        3.69842381, 4.57690315, 3.60023117, 3.50237903, 3.22915814],\n",
       "       [2.60739398, 2.25656012, 1.882739  , 1.40180586, 1.05078076,\n",
       "        1.94581551, 2.66270017, 2.31967474, 2.93047383, 1.77931712,\n",
       "        2.65310687, 2.30764218, 0.57721849, 1.00777328, 1.80784803,\n",
       "        1.70006038, 1.65134441, 1.78962474, 1.37973424, 1.02902967]])"
      ]
     },
     "execution_count": 6,
     "metadata": {},
     "output_type": "execute_result"
    }
   ],
   "source": [
    "X1"
   ]
  },
  {
   "cell_type": "code",
   "execution_count": 8,
   "metadata": {},
   "outputs": [
    {
     "data": {
      "text/plain": [
       "array([[2.11200125, 1.3085396 , 2.51153392, 1.04405478, 2.15254162,\n",
       "        1.68244384, 1.58334917, 2.63624444, 1.85831694, 1.93727986,\n",
       "        1.33290958, 2.4697242 , 1.57395371, 0.98379239, 2.49008239,\n",
       "        2.28779706, 2.58326845, 2.2536685 , 2.55700152, 1.05419243,\n",
       "        4.41402075, 4.06701995, 3.318081  , 3.84622929, 3.84007596,\n",
       "        4.16860578, 4.39809886, 3.86358184, 4.55199165, 3.72274273,\n",
       "        4.76570368, 5.23903244, 2.14303611, 3.19963387, 3.49595399,\n",
       "        3.69842381, 4.57690315, 3.60023117, 3.50237903, 3.22915814],\n",
       "       [2.07746801, 1.86675739, 1.89235835, 1.58870979, 2.30946373,\n",
       "        1.93568992, 2.21244285, 3.10171506, 1.76121109, 0.88918865,\n",
       "        1.50556893, 2.66340908, 2.73013273, 1.18087489, 2.22917145,\n",
       "        2.03725257, 2.31897762, 2.02251099, 2.14158843, 0.39536933,\n",
       "        2.60739398, 2.25656012, 1.882739  , 1.40180586, 1.05078076,\n",
       "        1.94581551, 2.66270017, 2.31967474, 2.93047383, 1.77931712,\n",
       "        2.65310687, 2.30764218, 0.57721849, 1.00777328, 1.80784803,\n",
       "        1.70006038, 1.65134441, 1.78962474, 1.37973424, 1.02902967]])"
      ]
     },
     "execution_count": 8,
     "metadata": {},
     "output_type": "execute_result"
    }
   ],
   "source": [
    "X = np.concatenate((X0,X1), axis=1)\n",
    "X"
   ]
  },
  {
   "cell_type": "code",
   "execution_count": 9,
   "metadata": {},
   "outputs": [
    {
     "data": {
      "text/plain": [
       "array([[ 1.,  1.,  1.,  1.,  1.,  1.,  1.,  1.,  1.,  1.,  1.,  1.,  1.,\n",
       "         1.,  1.,  1.,  1.,  1.,  1.,  1., -1., -1., -1., -1., -1., -1.,\n",
       "        -1., -1., -1., -1., -1., -1., -1., -1., -1., -1., -1., -1., -1.,\n",
       "        -1.]])"
      ]
     },
     "execution_count": 9,
     "metadata": {},
     "output_type": "execute_result"
    }
   ],
   "source": [
    "Y = np.concatenate((np.ones((1, N)), -1 * np.ones((1, N))), axis=1)\n",
    "Y"
   ]
  },
  {
   "cell_type": "code",
   "execution_count": 10,
   "metadata": {},
   "outputs": [],
   "source": [
    "def h(W,x):\n",
    "    return np.sign(np.dot(W.T, x))"
   ]
  },
  {
   "cell_type": "code",
   "execution_count": 17,
   "metadata": {},
   "outputs": [],
   "source": [
    "def has_converged(X, y, W):\n",
    "    return np.array_equal(h(W, X), y)\n",
    "\n",
    "def perceptron(X, y, w_init):\n",
    "    W = [w_init]\n",
    "    N = X.shape[1]\n",
    "    d = X.shape[0]\n",
    "    miss_points = []\n",
    "    while True:\n",
    "        mix_id = np.random.permutation(N)\n",
    "        for i in range(N):\n",
    "            xi = X[:, mix_id[i]].reshape(d, 1)\n",
    "            yi = y[0, mix_id[i]]\n",
    "            if h(W[-1], xi) != yi:\n",
    "                miss_points.append(mix_id[i])\n",
    "                w_new = W[-1] + yi * xi\n",
    "                print('miss points:', miss_points)\n",
    "        if has_converged(X, y, W[-1]):\n",
    "            break\n",
    "    return (W, miss_points)"
   ]
  },
  {
   "cell_type": "code",
   "execution_count": null,
   "metadata": {},
   "outputs": [],
   "source": [
    "d = X.shape[0]\n",
    "w_init = np.random.randn(d, 1)\n",
    "(w, m) = perceptron(X,Y, w_init)"
   ]
  }
 ],
 "metadata": {
  "kernelspec": {
   "display_name": "Python 3",
   "language": "python",
   "name": "python3"
  },
  "language_info": {
   "codemirror_mode": {
    "name": "ipython",
    "version": 3
   },
   "file_extension": ".py",
   "mimetype": "text/x-python",
   "name": "python",
   "nbconvert_exporter": "python",
   "pygments_lexer": "ipython3",
   "version": "3.10.0"
  }
 },
 "nbformat": 4,
 "nbformat_minor": 2
}
